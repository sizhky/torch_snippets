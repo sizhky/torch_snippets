{
 "cells": [
  {
   "cell_type": "code",
   "execution_count": null,
   "id": "02f12659",
   "metadata": {},
   "outputs": [
    {
     "name": "stderr",
     "output_type": "stream",
     "text": [
      "INFO:     Started server process [9448]\n",
      "INFO:     Waiting for application startup.\n",
      "INFO:     Application startup complete.\n",
      "INFO:     Uvicorn running on http://0.0.0.0:10979 (Press CTRL+C to quit)\n",
      "INFO:     Waiting for application startup.\n",
      "INFO:     Application startup complete.\n",
      "INFO:     Uvicorn running on http://0.0.0.0:10979 (Press CTRL+C to quit)\n"
     ]
    },
    {
     "data": {
      "text/html": [
       "\n",
       "<script>\n",
       "document.body.addEventListener('htmx:configRequest', (event) => {\n",
       "    if(event.detail.path.includes('://')) return;\n",
       "    htmx.config.selfRequestsOnly=false;\n",
       "    event.detail.path = `${location.protocol}//${location.hostname}:10979${event.detail.path}`;\n",
       "});\n",
       "</script>"
      ],
      "text/plain": [
       "<IPython.core.display.HTML object>"
      ]
     },
     "metadata": {},
     "output_type": "display_data"
    },
    {
     "data": {
      "text/markdown": [
       "<div>\n",
       "<a href=\"http://localhost:10979\">visit site</a><script>if (window.htmx) htmx.process(document.body)</script></div>\n"
      ],
      "text/plain": [
       "a(('visit site',),{'href': 'http://localhost:10979'})"
      ]
     },
     "execution_count": 1,
     "metadata": {},
     "output_type": "execute_result"
    },
    {
     "name": "stderr",
     "output_type": "stream",
     "text": [
      "INFO:     127.0.0.1:51896 - \"WebSocket /ws\" 403\n",
      "INFO:     connection rejected (403 Forbidden)\n",
      "INFO:     connection rejected (403 Forbidden)\n",
      "INFO:     connection closed\n",
      "INFO:     connection closed\n",
      "INFO:     127.0.0.1:51918 - \"WebSocket /ws\" [accepted]\n",
      "INFO:     127.0.0.1:51918 - \"WebSocket /ws\" [accepted]\n",
      "INFO:     connection open\n",
      "INFO:     connection open\n"
     ]
    },
    {
     "name": "stdout",
     "output_type": "stream",
     "text": [
      "INFO:     127.0.0.1:51927 - \"GET / HTTP/1.1\" 200 OK\n"
     ]
    },
    {
     "name": "stderr",
     "output_type": "stream",
     "text": [
      "INFO:     connection closed\n",
      "INFO:     127.0.0.1:51928 - \"WebSocket /ws\" [accepted]\n",
      "INFO:     127.0.0.1:51928 - \"WebSocket /ws\" [accepted]\n",
      "INFO:     connection open\n",
      "INFO:     connection open\n"
     ]
    }
   ],
   "source": [
    "# Minimal FastHTML WebSocket Chat\n",
    "from typing import List, Dict, Union, Optional, Callable, Awaitable\n",
    "import inspect\n",
    "import asyncio\n",
    "from fasthtml.common import *\n",
    "from fasthtml.jupyter import render_ft, JupyUvi\n",
    "\n",
    "render_ft()\n",
    "\n",
    "app = FastHTML(exts=\"ws\")\n",
    "rt = app.route\n",
    "\n",
    "# In-notebook server (adjust port as needed)\n",
    "PORT = 10979\n",
    "server = JupyUvi(app, port=PORT, log_level=\"info\")\n",
    "A(\"visit site\", href=f\"http://localhost:{PORT}\")"
   ]
  },
  {
   "cell_type": "code",
   "execution_count": 2,
   "id": "39166c7f",
   "metadata": {},
   "outputs": [],
   "source": [
    "# UI primitives and state\n",
    "from torch_snippets import AD\n",
    "\n",
    "style_template = \"\"\"background: {bg}; text-align: {align}; padding: 10px;\"\"\"\n",
    "styles = AD(\n",
    "    css={\n",
    "        \"user\": style_template.format(bg=\"#EEE6CA\", align=\"right\"),\n",
    "        \"assistant\": style_template.format(bg=\"#E5BEB5\", align=\"left\"),\n",
    "    },\n",
    "    emojis={\"user\": \"🗣️\", \"assistant\": \"🐕‍🦺\"},\n",
    ")\n",
    "\n",
    "\n",
    "def Card(data: dict):\n",
    "    role = data[\"role\"]\n",
    "    content = data.get(\"content\", \"\")\n",
    "    pending = data.get(\"pending\", False)\n",
    "    style = styles.css[role]\n",
    "    emoji = styles.emojis[role]\n",
    "    if pending:\n",
    "        spinner = Span(cls=\"spinner\")\n",
    "        return Div(f\"{emoji} {role}: \", spinner, style=style)\n",
    "    return Div(f\"{emoji} {role}: {content}\", style=style)\n",
    "\n",
    "\n",
    "CHAT_DIV_ID = \"chat-cards\"\n",
    "messages: List[Dict[str, str]] = []\n",
    "\n",
    "\n",
    "def render_chat_list():\n",
    "    return Div(*[Card(m) for m in messages], id=CHAT_DIV_ID, cls=\"chat-cards\")\n",
    "\n",
    "\n",
    "def mk_inp():\n",
    "    return Input(id=\"msg\", placeholder=\"Type a message...\", autofocus=True)\n",
    "\n",
    "\n",
    "@rt(\"/\")\n",
    "def home():\n",
    "    return Div(\n",
    "        render_chat_list(),\n",
    "        Form(mk_inp(), id=\"form\", ws_send=True),\n",
    "        hx_ext=\"ws\",\n",
    "        ws_connect=\"/ws\",\n",
    "    )\n",
    "\n",
    "\n",
    "# Connected users (id->send) for broadcast\n",
    "users: Dict[str, Callable] = {}\n",
    "\n",
    "\n",
    "def on_conn(ws, send):\n",
    "    users[str(id(ws))] = send\n",
    "\n",
    "\n",
    "def on_disconn(ws):\n",
    "    users.pop(str(id(ws)), None)\n",
    "\n",
    "\n",
    "# Default responder (can be replaced)\n",
    "async def default_responder(text: str) -> str:\n",
    "    # simulate latency to show spinner\n",
    "    await asyncio.sleep(2)\n",
    "    return f\"echo: {text}\"\n",
    "\n",
    "\n",
    "responder: Optional[Callable[[str], Union[str, Awaitable[str]]]] = default_responder\n",
    "\n",
    "\n",
    "@app.ws(\"/ws\", conn=on_conn, disconn=on_disconn)\n",
    "async def ws(msg: str, send):\n",
    "    # 1) Append user's message and broadcast immediately\n",
    "    messages.append({\"role\": \"user\", \"content\": msg})\n",
    "    for u in list(users.values()):\n",
    "        try:\n",
    "            await u(render_chat_list())\n",
    "        except Exception:\n",
    "            pass\n",
    "\n",
    "    # 2) Insert assistant pending placeholder and broadcast\n",
    "    ph_id = f\"ph-{len(messages)}\"\n",
    "    messages.append({\"role\": \"assistant\", \"content\": \"\", \"pending\": True, \"id\": ph_id})\n",
    "    for u in list(users.values()):\n",
    "        try:\n",
    "            await u(render_chat_list())\n",
    "        except Exception:\n",
    "            pass\n",
    "\n",
    "    # 3) Compute reply (sync/async), replace placeholder content, clear pending, broadcast again\n",
    "    reply_text = \"\"\n",
    "    if responder:\n",
    "        try:\n",
    "            res = responder(msg)\n",
    "            reply_text = await res if inspect.isawaitable(res) else res\n",
    "        except Exception as e:\n",
    "            reply_text = f\"Responder error: {e}\"\n",
    "    # replace pending\n",
    "    for m in messages:\n",
    "        if m.get(\"id\") == ph_id:\n",
    "            m.pop(\"pending\", None)\n",
    "            m[\"content\"] = str(reply_text)\n",
    "            break\n",
    "\n",
    "    for u in list(users.values()):\n",
    "        try:\n",
    "            await u(render_chat_list())\n",
    "        except Exception:\n",
    "            pass\n",
    "\n",
    "    # 4) Clear input for sender\n",
    "    await send(mk_inp())"
   ]
  }
 ],
 "metadata": {
  "kernelspec": {
   "display_name": "yeshwanth (3.12.10)",
   "language": "python",
   "name": "python3"
  },
  "language_info": {
   "codemirror_mode": {
    "name": "ipython",
    "version": 3
   },
   "file_extension": ".py",
   "mimetype": "text/x-python",
   "name": "python",
   "nbconvert_exporter": "python",
   "pygments_lexer": "ipython3",
   "version": "3.12.10"
  }
 },
 "nbformat": 4,
 "nbformat_minor": 5
}
