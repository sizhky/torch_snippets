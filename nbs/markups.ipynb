{
 "cells": [
  {
   "cell_type": "markdown",
   "id": "56ef5fbf",
   "metadata": {},
   "source": [
    "# Markups"
   ]
  },
  {
   "cell_type": "code",
   "execution_count": 1,
   "id": "7d63e00c",
   "metadata": {
    "tags": []
   },
   "outputs": [],
   "source": [
    "# default_exp markup"
   ]
  },
  {
   "cell_type": "code",
   "execution_count": 2,
   "id": "8fead8d6",
   "metadata": {},
   "outputs": [],
   "source": [
    "# export\n",
    "def isnamedtupleinstance(x):\n",
    "    _type = type(x)\n",
    "    bases = _type.__bases__\n",
    "    if len(bases) != 1 or bases[0] != tuple:\n",
    "        return False\n",
    "    fields = getattr(_type, '_fields', None)\n",
    "    if not isinstance(fields, tuple):\n",
    "        return False\n",
    "    return all(type(i)==str for i in fields)\n",
    "\n",
    "def unpack(obj):\n",
    "    if isinstance(obj, dict):\n",
    "        return {key: unpack(value) for key, value in obj.items()}\n",
    "    elif isinstance(obj, list):\n",
    "        return [unpack(value) for value in obj]\n",
    "    elif isnamedtupleinstance(obj):\n",
    "        return {key: unpack(value) for key, value in obj._asdict().items()}\n",
    "    elif isinstance(obj, tuple):\n",
    "        return tuple(unpack(value) for value in obj)\n",
    "    else:\n",
    "        return obj"
   ]
  },
  {
   "cell_type": "code",
   "execution_count": 3,
   "id": "605d248e",
   "metadata": {
    "tags": []
   },
   "outputs": [],
   "source": [
    "# export\n",
    "import json\n",
    "from torch_snippets.paths import *\n",
    "from torch_snippets.logger import *\n",
    "\n",
    "def read_json(fpath):\n",
    "    import json\n",
    "    with open(fpath, 'r') as f:\n",
    "        return json.load(f)\n",
    "\n",
    "def write_json(obj, fpath):\n",
    "    def set_default(obj):\n",
    "        if isinstance(obj, set):\n",
    "            return list(obj)\n",
    "        if isinstance(obj, AttrDict):\n",
    "            return obj.to_dict()\n",
    "        raise TypeError\n",
    "\n",
    "    logger.opt(depth=1).log(\"DEBUG\", f\"Dumping json to {fpath}\")\n",
    "    with open(fpath, \"w\") as f:\n",
    "        json.dump(obj, f, indent=4, default=set_default)\n",
    "    return P(fpath)\n",
    "\n",
    "class AttrDict(object):\n",
    "    def __init__(self, data):\n",
    "        for name, value in data.items():\n",
    "            setattr(self, name, self._wrap(value))\n",
    "\n",
    "    def _wrap(self, value):\n",
    "        if isinstance(value, (tuple, list, set, frozenset)):\n",
    "            return type(value)([self._wrap(v) for v in value])\n",
    "        else:\n",
    "            return AttrDict(value) if isinstance(value, dict) else value\n",
    "\n",
    "    __getitem__ = lambda self, x: getattr(self, x)\n",
    "    __setitem__ = lambda self, k, v: setattr(self, k, self._wrap(v))\n",
    "\n",
    "    def __repr__(self):\n",
    "        return '{%s}' % str(', '.join(\"'%s': %s\" % (k, repr(v)) for (k, v) in self.__dict__.items()))\n",
    "\n",
    "    def __dir__(self):\n",
    "        return self.__dict__.keys()\n",
    "\n",
    "    def __contains__(self, key):\n",
    "        return key in self.__dict__.keys()\n",
    "\n",
    "    def to_dict(self):\n",
    "        d = {}\n",
    "        for k in dir(self):\n",
    "            v = self[k]\n",
    "            if isinstance(v, AttrDict):\n",
    "                v = v.to_dict()\n",
    "            d[k] = v\n",
    "        return d\n",
    "\n",
    "    def pretty(self, print_with_logger=False, *args, **kwargs):\n",
    "        pretty_json(self.to_dict(), print_with_logger=print_with_logger, *args, **kwargs)\n",
    "\n",
    "    def __eq__(self, other):\n",
    "        return AttrDict(other).to_dict() == self.to_dict()\n",
    "\n",
    "\n",
    "def pretty_json(i, fpath=None, indent=4, print_with_logger=True):\n",
    "    def set_default(obj):\n",
    "        if isinstance(obj, set):\n",
    "            return list(obj)\n",
    "    assert isinstance(i, (dict, list))\n",
    "    i = unpack(i)\n",
    "    dump = json.dumps(i, indent=indent, default=set_default)\n",
    "    if fpath:\n",
    "        makedir(parent(fpath))\n",
    "        logger.info(f'Dumped a pretty file to {fpath}')\n",
    "        with open(fpath, 'w') as f:\n",
    "            json.dump(i, f, indent=indent, default=set_default)\n",
    "            return\n",
    "    if print_with_logger:\n",
    "        return logger.opt(depth=1).log('DEBUG', f'\\n{dump}')\n",
    "    else:\n",
    "        print(dump)"
   ]
  },
  {
   "cell_type": "code",
   "execution_count": 8,
   "id": "3f40a677",
   "metadata": {
    "tags": []
   },
   "outputs": [
    {
     "name": "stdout",
     "output_type": "stream",
     "text": [
      "{\n",
      "  \"abc\": {\n",
      "    \"b\": 10,\n",
      "    \"c\": 11\n",
      "  },\n",
      "  \"d\": {\n",
      "    \"e\": {\n",
      "      \"f\": [\n",
      "        2,\n",
      "        null,\n",
      "        2.234\n",
      "      ],\n",
      "      \"g\": 11\n",
      "    }\n",
      "  }\n",
      "}\n"
     ]
    },
    {
     "data": {
      "text/plain": [
       "True"
      ]
     },
     "execution_count": 8,
     "metadata": {},
     "output_type": "execute_result"
    }
   ],
   "source": [
    "x = {'abc': {'b': 10, 'c': 11}, 'd': {'e': {'f': [2, {'abc': 'pqrs'}, 2.234]}}}\n",
    "\n",
    "y = AttrDict(x)\n",
    "\n",
    "assert y.abc.b == 10\n",
    "assert y.d.e.f == [2,{'abc': 'pqrs'},2.234]\n",
    "\n",
    "y.d.e.g = 11\n",
    "\n",
    "assert y.to_dict() == {'abc': {'b': 10, 'c': 11}, 'd': {'e': {'f': [2, {'abc': 'pqrs'}, 2.234], 'g': 11}}}\n",
    "\n",
    "y.pretty(indent=2)\n",
    "\n",
    "assert 'abc' in y\n",
    "assert 'def' not in y\n",
    "'e' in y.d"
   ]
  },
  {
   "cell_type": "code",
   "execution_count": 5,
   "id": "6efa56d7",
   "metadata": {
    "tags": []
   },
   "outputs": [
    {
     "name": "stderr",
     "output_type": "stream",
     "text": [
      "2021-10-08 21:24:10.907 | DEBUG    | __main__:<module>:3 - \n",
      "{\n",
      "    \"1\": 1,\n",
      "    \"2\": 2\n",
      "}\n",
      "2021-10-08 21:24:10.909 | DEBUG    | __main__:<module>:4 - \n",
      "[\n",
      "    1,\n",
      "    {\n",
      "        \"1\": 1,\n",
      "        \"2\": 2\n",
      "    },\n",
      "    3\n",
      "]\n",
      "2021-10-08 21:24:10.910 | DEBUG    | __main__:<module>:6 - Dumping json to /tmp/test.json\n"
     ]
    },
    {
     "name": "stdout",
     "output_type": "stream",
     "text": [
      "/tmp/test.json\n"
     ]
    },
    {
     "data": {
      "text/plain": [
       "[1, {'1': 1, '2': 2}, 3]"
      ]
     },
     "execution_count": 5,
     "metadata": {},
     "output_type": "execute_result"
    }
   ],
   "source": [
    "d = [1,{1:1,2:2},3]\n",
    "\n",
    "pretty_json({1:1,2:2})\n",
    "pretty_json(d)\n",
    "\n",
    "f = write_json(d, '/tmp/test.json')\n",
    "print(f)\n",
    "read_json(f)"
   ]
  },
  {
   "cell_type": "code",
   "execution_count": 6,
   "id": "d83a54de",
   "metadata": {},
   "outputs": [],
   "source": [
    "# export\n",
    "import yaml\n",
    "\n",
    "def read_yaml(file):\n",
    "    with open(file, 'r') as stream:\n",
    "        try:\n",
    "            return yaml.safe_load(stream)\n",
    "        except yaml.YAMLError as exc:\n",
    "            print(exc)\n",
    "\n",
    "def write_yaml(content, fpath):\n",
    "    with open(fpath, 'w') as outfile:\n",
    "        yaml.dump(content, outfile, default_flow_style=False)"
   ]
  },
  {
   "cell_type": "code",
   "execution_count": 7,
   "id": "e364b311",
   "metadata": {},
   "outputs": [],
   "source": [
    "# export\n",
    "from torch_snippets.thinc_parser.parser import Config\n",
    "Config = Config"
   ]
  },
  {
   "cell_type": "code",
   "execution_count": null,
   "id": "00ec213f",
   "metadata": {},
   "outputs": [],
   "source": []
  }
 ],
 "metadata": {
  "kernelspec": {
   "display_name": "Python 3 (ipykernel)",
   "language": "python",
   "name": "python3"
  },
  "language_info": {
   "codemirror_mode": {
    "name": "ipython",
    "version": 3
   },
   "file_extension": ".py",
   "mimetype": "text/x-python",
   "name": "python",
   "nbconvert_exporter": "python",
   "pygments_lexer": "ipython3",
   "version": "3.9.5"
  }
 },
 "nbformat": 4,
 "nbformat_minor": 5
}
