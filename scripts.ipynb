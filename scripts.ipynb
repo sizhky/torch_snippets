{
 "cells": [
  {
   "cell_type": "markdown",
   "metadata": {},
   "source": [
    "### Parse all notebooks and update the library files"
   ]
  },
  {
   "cell_type": "code",
   "execution_count": 1,
   "metadata": {
    "tags": []
   },
   "outputs": [
    {
     "name": "stdout",
     "output_type": "stream",
     "text": [
      "Converted charts.ipynb.\n",
      "Converted index.ipynb.\n",
      "Converted logging.ipynb.\n",
      "Converted markups.ipynb.\n",
      "Converted misc.ipynb.\n",
      "Converted paths.ipynb.\n",
      "Converted registry.ipynb.\n",
      "Converted report.ipynb.\n",
      "Converted show.ipynb.\n",
      "Converted sklegos.ipynb.\n"
     ]
    }
   ],
   "source": [
    "from nbdev.export import *\n",
    "notebook2script()"
   ]
  },
  {
   "cell_type": "markdown",
   "metadata": {},
   "source": [
    "### Parse all notebooks and update the docs"
   ]
  },
  {
   "cell_type": "code",
   "execution_count": 2,
   "metadata": {
    "tags": []
   },
   "outputs": [
    {
     "name": "stdout",
     "output_type": "stream",
     "text": [
      "converting: /mnt/sda1/code/torch_snippets/nbs/charts.ipynb\n",
      "'coroutine' object is not subscriptable\n",
      "converting: /mnt/sda1/code/torch_snippets/nbs/logging.ipynb\n"
     ]
    },
    {
     "name": "stderr",
     "output_type": "stream",
     "text": [
      "/home/yyr/miniconda3/lib/python3.9/site-packages/jsonschema/exceptions.py:126: RuntimeWarning: coroutine 'ZMQSocketChannel.get_msg' was never awaited\n",
      "  for k, v in kwargs.items():\n",
      "RuntimeWarning: Enable tracemalloc to get the object allocation traceback\n"
     ]
    },
    {
     "name": "stdout",
     "output_type": "stream",
     "text": [
      "'coroutine' object is not subscriptable\n",
      "converting: /mnt/sda1/code/torch_snippets/nbs/markups.ipynb\n",
      "'coroutine' object is not subscriptable\n",
      "converting: /mnt/sda1/code/torch_snippets/nbs/paths.ipynb\n"
     ]
    },
    {
     "name": "stderr",
     "output_type": "stream",
     "text": [
      "/home/yyr/miniconda3/lib/python3.9/site-packages/jsonschema/validators.py:223: RuntimeWarning: coroutine 'ZMQSocketChannel.get_msg' was never awaited\n",
      "  errors = validator(self, v, instance, _schema) or ()\n",
      "RuntimeWarning: Enable tracemalloc to get the object allocation traceback\n"
     ]
    },
    {
     "name": "stdout",
     "output_type": "stream",
     "text": [
      "'coroutine' object is not subscriptable\n",
      "converting: /mnt/sda1/code/torch_snippets/nbs/registry.ipynb\n"
     ]
    },
    {
     "name": "stderr",
     "output_type": "stream",
     "text": [
      "/home/yyr/miniconda3/lib/python3.9/site-packages/jsonschema/validators.py:767: RuntimeWarning: coroutine 'ZMQSocketChannel.get_msg' was never awaited\n",
      "  values.extendleft(each.values())\n",
      "RuntimeWarning: Enable tracemalloc to get the object allocation traceback\n"
     ]
    },
    {
     "name": "stdout",
     "output_type": "stream",
     "text": [
      "'coroutine' object is not subscriptable\n",
      "converting: /mnt/sda1/code/torch_snippets/nbs/sklegos.ipynb\n"
     ]
    },
    {
     "name": "stderr",
     "output_type": "stream",
     "text": [
      "/mnt/sda1/code/torch_snippets/torch_snippets/logger.py:6: RuntimeWarning: coroutine 'ZMQSocketChannel.get_msg' was never awaited\n",
      "  from rich.console import Console\n",
      "RuntimeWarning: Enable tracemalloc to get the object allocation traceback\n"
     ]
    },
    {
     "name": "stdout",
     "output_type": "stream",
     "text": [
      "'coroutine' object is not subscriptable\n",
      "Conversion failed on the following:\n",
      "charts.ipynb\n",
      "logging.ipynb\n",
      "markups.ipynb\n",
      "paths.ipynb\n",
      "registry.ipynb\n",
      "sklegos.ipynb\n",
      "converting /mnt/sda1/code/torch_snippets/nbs/index.ipynb to README.md\n"
     ]
    },
    {
     "name": "stderr",
     "output_type": "stream",
     "text": [
      "/home/yyr/miniconda3/lib/python3.9/site-packages/ipython_genutils/ipstruct.py:134: RuntimeWarning: coroutine 'ZMQSocketChannel.get_msg' was never awaited\n",
      "  raise AttributeError(key)\n",
      "RuntimeWarning: Enable tracemalloc to get the object allocation traceback\n"
     ]
    }
   ],
   "source": [
    "from nbdev.export2html import nbdev_build_docs\n",
    "nbdev_build_docs(n_workers=0)"
   ]
  },
  {
   "cell_type": "markdown",
   "metadata": {},
   "source": [
    "### Update the notebooks if there have been any adhoc changes (bug-fixes) directly made in library files"
   ]
  },
  {
   "cell_type": "code",
   "execution_count": 3,
   "metadata": {
    "tags": []
   },
   "outputs": [
    {
     "name": "stdout",
     "output_type": "stream",
     "text": [
      "Converted charts.py.\n",
      "Converted logger.py.\n",
      "Converted markup.py.\n",
      "Converted paths.py.\n",
      "Converted registry.py.\n",
      "Converted sklegos.py.\n"
     ]
    }
   ],
   "source": [
    "from nbdev.sync import nbdev_update_lib\n",
    "nbdev_update_lib()"
   ]
  },
  {
   "cell_type": "code",
   "execution_count": 4,
   "metadata": {
    "tags": []
   },
   "outputs": [
    {
     "name": "stdout",
     "output_type": "stream",
     "text": [
      "rm -rf dist\n",
      "python setup.py sdist bdist_wheel\n",
      "running sdist\n",
      "running egg_info\n",
      "writing torch_snippets.egg-info/PKG-INFO\n",
      "writing dependency_links to torch_snippets.egg-info/dependency_links.txt\n",
      "writing entry points to torch_snippets.egg-info/entry_points.txt\n",
      "writing requirements to torch_snippets.egg-info/requires.txt\n",
      "writing top-level names to torch_snippets.egg-info/top_level.txt\n",
      "reading manifest file 'torch_snippets.egg-info/SOURCES.txt'\n",
      "reading manifest template 'MANIFEST.in'\n",
      "warning: no files found matching 'CONTRIBUTING.md'\n",
      "warning: no previously-included files matching '__pycache__' found under directory '*'\n",
      "writing manifest file 'torch_snippets.egg-info/SOURCES.txt'\n",
      "running check\n",
      "creating torch_snippets-0.465\n",
      "creating torch_snippets-0.465/torch_snippets\n",
      "creating torch_snippets-0.465/torch_snippets.egg-info\n",
      "creating torch_snippets-0.465/torch_snippets/thinc_parser\n",
      "copying files to torch_snippets-0.465...\n",
      "copying LICENSE -> torch_snippets-0.465\n",
      "copying LICENSE.txt -> torch_snippets-0.465\n",
      "copying MANIFEST.in -> torch_snippets-0.465\n",
      "copying README.md -> torch_snippets-0.465\n",
      "copying settings.ini -> torch_snippets-0.465\n",
      "copying setup.cfg -> torch_snippets-0.465\n",
      "copying setup.py -> torch_snippets-0.465\n",
      "copying torch_snippets/__init__.py -> torch_snippets-0.465/torch_snippets\n",
      "copying torch_snippets/_nbdev.py -> torch_snippets-0.465/torch_snippets\n",
      "copying torch_snippets/charts.py -> torch_snippets-0.465/torch_snippets\n",
      "copying torch_snippets/fastcores.py -> torch_snippets-0.465/torch_snippets\n",
      "copying torch_snippets/loader.py -> torch_snippets-0.465/torch_snippets\n",
      "copying torch_snippets/logger.py -> torch_snippets-0.465/torch_snippets\n",
      "copying torch_snippets/markup.py -> torch_snippets-0.465/torch_snippets\n",
      "copying torch_snippets/misc.py -> torch_snippets-0.465/torch_snippets\n",
      "copying torch_snippets/paths.py -> torch_snippets-0.465/torch_snippets\n",
      "copying torch_snippets/registry.py -> torch_snippets-0.465/torch_snippets\n",
      "copying torch_snippets/sklegos.py -> torch_snippets-0.465/torch_snippets\n",
      "copying torch_snippets/torch_loader.py -> torch_snippets-0.465/torch_snippets\n",
      "copying torch_snippets.egg-info/PKG-INFO -> torch_snippets-0.465/torch_snippets.egg-info\n",
      "copying torch_snippets.egg-info/SOURCES.txt -> torch_snippets-0.465/torch_snippets.egg-info\n",
      "copying torch_snippets.egg-info/dependency_links.txt -> torch_snippets-0.465/torch_snippets.egg-info\n",
      "copying torch_snippets.egg-info/entry_points.txt -> torch_snippets-0.465/torch_snippets.egg-info\n",
      "copying torch_snippets.egg-info/not-zip-safe -> torch_snippets-0.465/torch_snippets.egg-info\n",
      "copying torch_snippets.egg-info/requires.txt -> torch_snippets-0.465/torch_snippets.egg-info\n",
      "copying torch_snippets.egg-info/top_level.txt -> torch_snippets-0.465/torch_snippets.egg-info\n",
      "copying torch_snippets/thinc_parser/__init__.py -> torch_snippets-0.465/torch_snippets/thinc_parser\n",
      "copying torch_snippets/thinc_parser/parser.py -> torch_snippets-0.465/torch_snippets/thinc_parser\n",
      "Writing torch_snippets-0.465/setup.cfg\n",
      "creating dist\n",
      "Creating tar archive\n",
      "removing 'torch_snippets-0.465' (and everything under it)\n",
      "running bdist_wheel\n",
      "running build\n",
      "running build_py\n",
      "copying torch_snippets/charts.py -> build/lib/torch_snippets\n",
      "copying torch_snippets/loader.py -> build/lib/torch_snippets\n",
      "copying torch_snippets/logger.py -> build/lib/torch_snippets\n",
      "copying torch_snippets/markup.py -> build/lib/torch_snippets\n",
      "copying torch_snippets/paths.py -> build/lib/torch_snippets\n",
      "copying torch_snippets/registry.py -> build/lib/torch_snippets\n",
      "copying torch_snippets/sklegos.py -> build/lib/torch_snippets\n",
      "copying torch_snippets/_nbdev.py -> build/lib/torch_snippets\n",
      "copying torch_snippets/__init__.py -> build/lib/torch_snippets\n",
      "copying torch_snippets/thinc_parser/parser.py -> build/lib/torch_snippets/thinc_parser\n",
      "installing to build/bdist.linux-x86_64/wheel\n",
      "running install\n",
      "running install_lib\n",
      "creating build/bdist.linux-x86_64/wheel\n",
      "creating build/bdist.linux-x86_64/wheel/torch_snippets\n",
      "copying build/lib/torch_snippets/charts.py -> build/bdist.linux-x86_64/wheel/torch_snippets\n",
      "copying build/lib/torch_snippets/fastcores.py -> build/bdist.linux-x86_64/wheel/torch_snippets\n",
      "copying build/lib/torch_snippets/loader.py -> build/bdist.linux-x86_64/wheel/torch_snippets\n",
      "copying build/lib/torch_snippets/logger.py -> build/bdist.linux-x86_64/wheel/torch_snippets\n",
      "copying build/lib/torch_snippets/markup.py -> build/bdist.linux-x86_64/wheel/torch_snippets\n",
      "copying build/lib/torch_snippets/misc.py -> build/bdist.linux-x86_64/wheel/torch_snippets\n",
      "copying build/lib/torch_snippets/paths.py -> build/bdist.linux-x86_64/wheel/torch_snippets\n",
      "copying build/lib/torch_snippets/registry.py -> build/bdist.linux-x86_64/wheel/torch_snippets\n",
      "copying build/lib/torch_snippets/sklegos.py -> build/bdist.linux-x86_64/wheel/torch_snippets\n",
      "creating build/bdist.linux-x86_64/wheel/torch_snippets/thinc_parser\n",
      "copying build/lib/torch_snippets/thinc_parser/parser.py -> build/bdist.linux-x86_64/wheel/torch_snippets/thinc_parser\n",
      "copying build/lib/torch_snippets/thinc_parser/__init__.py -> build/bdist.linux-x86_64/wheel/torch_snippets/thinc_parser\n",
      "copying build/lib/torch_snippets/torch_loader.py -> build/bdist.linux-x86_64/wheel/torch_snippets\n",
      "copying build/lib/torch_snippets/_nbdev.py -> build/bdist.linux-x86_64/wheel/torch_snippets\n",
      "copying build/lib/torch_snippets/__init__.py -> build/bdist.linux-x86_64/wheel/torch_snippets\n",
      "running install_egg_info\n",
      "Copying torch_snippets.egg-info to build/bdist.linux-x86_64/wheel/torch_snippets-0.465-py3.9.egg-info\n",
      "running install_scripts\n",
      "adding license file \"LICENSE\" (matched pattern \"LICEN[CS]E*\")\n",
      "adding license file \"LICENSE.txt\" (matched pattern \"LICEN[CS]E*\")\n",
      "creating build/bdist.linux-x86_64/wheel/torch_snippets-0.465.dist-info/WHEEL\n",
      "creating 'dist/torch_snippets-0.465-py3-none-any.whl' and adding 'build/bdist.linux-x86_64/wheel' to it\n",
      "adding 'torch_snippets/__init__.py'\n",
      "adding 'torch_snippets/_nbdev.py'\n",
      "adding 'torch_snippets/charts.py'\n",
      "adding 'torch_snippets/fastcores.py'\n",
      "adding 'torch_snippets/loader.py'\n",
      "adding 'torch_snippets/logger.py'\n",
      "adding 'torch_snippets/markup.py'\n",
      "adding 'torch_snippets/misc.py'\n",
      "adding 'torch_snippets/paths.py'\n",
      "adding 'torch_snippets/registry.py'\n",
      "adding 'torch_snippets/sklegos.py'\n",
      "adding 'torch_snippets/torch_loader.py'\n",
      "adding 'torch_snippets/thinc_parser/__init__.py'\n",
      "adding 'torch_snippets/thinc_parser/parser.py'\n",
      "adding 'torch_snippets-0.465.dist-info/LICENSE'\n",
      "adding 'torch_snippets-0.465.dist-info/LICENSE.txt'\n",
      "adding 'torch_snippets-0.465.dist-info/METADATA'\n",
      "adding 'torch_snippets-0.465.dist-info/WHEEL'\n",
      "adding 'torch_snippets-0.465.dist-info/entry_points.txt'\n",
      "adding 'torch_snippets-0.465.dist-info/top_level.txt'\n",
      "adding 'torch_snippets-0.465.dist-info/RECORD'\n",
      "removing build/bdist.linux-x86_64/wheel\n",
      "twine upload --repository pypi dist/*\n",
      "Uploading distributions to https://upload.pypi.org/legacy/\n",
      "Uploading torch_snippets-0.465-py3-none-any.whl\n",
      "100%|██████████████████████████████████████| 50.9k/50.9k [00:05<00:00, 10.1kB/s]\n",
      "Uploading torch_snippets-0.465.tar.gz\n",
      "100%|██████████████████████████████████████| 49.5k/49.5k [00:02<00:00, 19.1kB/s]\n",
      "\n",
      "View at:\n",
      "https://pypi.org/project/torch-snippets/0.465/\n",
      "nbdev_conda_package\n",
      "nbdev_bump_version\n",
      "/bin/bash: line 1: nbdev_conda_package: command not found\n",
      "Old version: 0.465\n",
      "Traceback (most recent call last):\n",
      "  File \"/home/yyr/miniconda3/bin/nbdev_bump_version\", line 8, in <module>\n",
      "    sys.exit(nbdev_bump_version())\n",
      "  File \"/home/yyr/miniconda3/lib/python3.9/site-packages/fastcore/script.py\", line 107, in _f\n",
      "    tfunc(**merge(args, args_from_prog(func, xtra)))\n",
      "  File \"/home/yyr/miniconda3/lib/python3.9/site-packages/nbdev/cli.py\", line 31, in nbdev_bump_version\n",
      "    cfg.d['version'] = bump_version(get_config().version, part)\n",
      "  File \"/home/yyr/miniconda3/lib/python3.9/site-packages/nbdev/cli.py\", line 21, in bump_version\n",
      "    version[part] = str(int(version[part]) + 1)\n",
      "IndexError: list index out of range\n",
      "make: *** [Makefile:25: release] Error 1\n"
     ]
    }
   ],
   "source": [
    "!make release"
   ]
  },
  {
   "cell_type": "markdown",
   "metadata": {},
   "source": [
    "### Create a softlink"
   ]
  },
  {
   "cell_type": "code",
   "execution_count": 5,
   "metadata": {
    "execution": {
     "iopub.execute_input": "2021-06-22T07:15:14.113778Z",
     "iopub.status.busy": "2021-06-22T07:15:14.113448Z",
     "iopub.status.idle": "2021-06-22T07:15:14.119154Z",
     "shell.execute_reply": "2021-06-22T07:15:14.117508Z",
     "shell.execute_reply.started": "2021-06-22T07:15:14.113742Z"
    },
    "tags": []
   },
   "outputs": [],
   "source": [
    "'''\n",
    "%cd nbs\n",
    "!ln -s ../<libname> .\n",
    "%cd ..\n",
    "''';"
   ]
  }
 ],
 "metadata": {
  "kernelspec": {
   "display_name": "Python 3 (ipykernel)",
   "language": "python",
   "name": "python3"
  },
  "language_info": {
   "codemirror_mode": {
    "name": "ipython",
    "version": 3
   },
   "file_extension": ".py",
   "mimetype": "text/x-python",
   "name": "python",
   "nbconvert_exporter": "python",
   "pygments_lexer": "ipython3",
   "version": "3.9.5"
  }
 },
 "nbformat": 4,
 "nbformat_minor": 4
}
